{
 "cells": [
  {
   "cell_type": "markdown",
   "metadata": {},
   "source": [
    "Python Functions"
   ]
  },
  {
   "cell_type": "code",
   "execution_count": 1,
   "metadata": {},
   "outputs": [],
   "source": [
    "#How to create a function\n",
    "\n",
    "def square(num):\n",
    "    print('Hello ' +str(num**2))"
   ]
  },
  {
   "cell_type": "code",
   "execution_count": 2,
   "metadata": {},
   "outputs": [
    {
     "name": "stdout",
     "output_type": "stream",
     "text": [
      "Hello 25\n"
     ]
    }
   ],
   "source": [
    "num_ex=square(5)"
   ]
  },
  {
   "cell_type": "code",
   "execution_count": 3,
   "metadata": {},
   "outputs": [
    {
     "name": "stdout",
     "output_type": "stream",
     "text": [
      "5.0 <class 'float'>\n"
     ]
    }
   ],
   "source": [
    "### return function call\n",
    "def square_root(num):\n",
    "    square_root=num**0.5\n",
    "    return square_root\n",
    "\n",
    "square_sample=square_root(25)\n",
    "print(square_sample, type(square_sample))\n"
   ]
  },
  {
   "cell_type": "markdown",
   "metadata": {},
   "source": [
    "Return Multiple values"
   ]
  },
  {
   "cell_type": "code",
   "execution_count": 4,
   "metadata": {},
   "outputs": [
    {
     "name": "stdout",
     "output_type": "stream",
     "text": [
      "Total 12,Average :4.0\n"
     ]
    }
   ],
   "source": [
    "def sum_avg(x,y,z):\n",
    "    sum_sample=x+y+z\n",
    "    avg_sample=(sum_sample)/3.0\n",
    "    return sum_sample,avg_sample\n",
    "total,avg=sum_avg(3,4,5)\n",
    "print('Total {},Average :{}'.format(total,avg))"
   ]
  },
  {
   "cell_type": "code",
   "execution_count": 5,
   "metadata": {},
   "outputs": [],
   "source": [
    "def get_sum(lst):\n",
    "    _sum=0\n",
    "    for num in lst:\n",
    "        _sum += num\n",
    "    return _sum"
   ]
  },
  {
   "cell_type": "code",
   "execution_count": 6,
   "metadata": {},
   "outputs": [
    {
     "name": "stdout",
     "output_type": "stream",
     "text": [
      "15\n"
     ]
    }
   ],
   "source": [
    "s=get_sum([1,3,5,6])\n",
    "print(s)"
   ]
  },
  {
   "cell_type": "markdown",
   "metadata": {},
   "source": [
    "How functions work in python"
   ]
  },
  {
   "cell_type": "markdown",
   "metadata": {},
   "source": [
    "Scope and life time of variables"
   ]
  },
  {
   "cell_type": "code",
   "execution_count": 7,
   "metadata": {},
   "outputs": [
    {
     "name": "stdout",
     "output_type": "stream",
     "text": [
      "This is local variable\n",
      "This is global variable\n"
     ]
    }
   ],
   "source": [
    "global_var='This is global variable'\n",
    "def test_life_time():\n",
    "    local_var='This is local variable'\n",
    "    print(local_var)\n",
    "    print(global_var)\n",
    "##Calling function\n",
    "test_life_time()\n",
    "\n",
    "###print global variable \n",
    "# print(global_var)\n",
    "\n",
    "\n"
   ]
  },
  {
   "cell_type": "markdown",
   "metadata": {},
   "source": [
    "Python program to print Highest Common Factor (HCF) of two numbers"
   ]
  },
  {
   "cell_type": "code",
   "execution_count": 8,
   "metadata": {},
   "outputs": [
    {
     "name": "stdout",
     "output_type": "stream",
     "text": [
      "H.C.F of 4 and 24 is 4\n"
     ]
    }
   ],
   "source": [
    "def computHCF(a,b):\n",
    "    \"\"\"\n",
    "    Computing HCF of two numbers\n",
    "    \"\"\"\n",
    "    smaller=b if a > b else a ##concise way of writing\n",
    "    \n",
    "    hcf=1\n",
    "    for i in range(1,smaller+1):\n",
    "        if(a%i==0) and (b%i==0):\n",
    "            hcf=i\n",
    "        \n",
    "    return hcf\n",
    "\n",
    "num1=4\n",
    "num2=24\n",
    "\n",
    "print(\"H.C.F of {0} and {1} is {2}\".format(num1,num2,computHCF(num1,num2)))\n",
    "\n"
   ]
  },
  {
   "cell_type": "markdown",
   "metadata": {},
   "source": [
    "Building function in python"
   ]
  },
  {
   "cell_type": "code",
   "execution_count": 9,
   "metadata": {},
   "outputs": [
    {
     "name": "stdout",
     "output_type": "stream",
     "text": [
      "100\n"
     ]
    }
   ],
   "source": [
    "num=-100\n",
    "print(abs(num))"
   ]
  },
  {
   "cell_type": "markdown",
   "metadata": {},
   "source": [
    "Enumerate() function"
   ]
  },
  {
   "cell_type": "code",
   "execution_count": 10,
   "metadata": {},
   "outputs": [
    {
     "name": "stdout",
     "output_type": "stream",
     "text": [
      "This 10 has value 10\n",
      "This 11 has value 20\n",
      "This 12 has value 40\n",
      "This 13 has value 50\n",
      "This 14 has value 60\n"
     ]
    }
   ],
   "source": [
    "numbers=[10,20,40,50,60]\n",
    "\n",
    "for index,num in enumerate(numbers,10):\n",
    "    print(\"This {0} has value {1}\".format(index,num))\n",
    "    "
   ]
  },
  {
   "cell_type": "markdown",
   "metadata": {},
   "source": [
    "###filter() function"
   ]
  },
  {
   "cell_type": "code",
   "execution_count": 11,
   "metadata": {},
   "outputs": [],
   "source": [
    "def find_positive_number(num):\n",
    "    if num>0: return num\n",
    "    "
   ]
  },
  {
   "cell_type": "code",
   "execution_count": 12,
   "metadata": {},
   "outputs": [
    {
     "name": "stdout",
     "output_type": "stream",
     "text": [
      "[-10, -9, -8, -7, -6, -5, -4, -3, -2, -1, 0, 1, 2, 3, 4, 5, 6, 7, 8, 9]\n",
      "[1, 2, 3, 4, 5, 6, 7, 8, 9]\n"
     ]
    }
   ],
   "source": [
    "number_list=range(-10,10) ##create a list numbers filter\n",
    "\n",
    "print(list(number_list))\n",
    "\n",
    "positive_num_lst=list(filter(find_positive_number,number_list))\n",
    "print(positive_num_lst)"
   ]
  },
  {
   "cell_type": "markdown",
   "metadata": {},
   "source": [
    "Map() function"
   ]
  },
  {
   "cell_type": "code",
   "execution_count": 13,
   "metadata": {},
   "outputs": [
    {
     "name": "stdout",
     "output_type": "stream",
     "text": [
      "[1, 4, 9, 16]\n"
     ]
    }
   ],
   "source": [
    "numbers=[1,2,3,4]\n",
    "\n",
    "squared=[]\n",
    "for num in numbers:\n",
    "    squared.append(num**2)\n",
    "print(squared)"
   ]
  },
  {
   "cell_type": "code",
   "execution_count": 14,
   "metadata": {},
   "outputs": [
    {
     "name": "stdout",
     "output_type": "stream",
     "text": [
      "[1, 4, 9, 16]\n"
     ]
    }
   ],
   "source": [
    "numbers=[1,2,3,4]\n",
    "\n",
    "def powerofTwo(num):\n",
    "    return num **2\n",
    "\n",
    "##using map() function\n",
    "\n",
    "squared=list(map(powerofTwo,numbers))\n",
    "print(squared)"
   ]
  },
  {
   "cell_type": "code",
   "execution_count": 15,
   "metadata": {},
   "outputs": [
    {
     "name": "stdout",
     "output_type": "stream",
     "text": [
      "24\n"
     ]
    }
   ],
   "source": [
    "###reduce() function\n",
    "\n",
    "product=1\n",
    "lst=[1,2,3,4]\n",
    "##traditional program without reduce()\n",
    "\n",
    "for num in lst:\n",
    "    product *= num\n",
    "print(product)"
   ]
  },
  {
   "cell_type": "code",
   "execution_count": 16,
   "metadata": {},
   "outputs": [
    {
     "name": "stdout",
     "output_type": "stream",
     "text": [
      "24 <class 'int'>\n"
     ]
    }
   ],
   "source": [
    "###with reduce()\n",
    "from functools import reduce \n",
    "def multiply(x,y):\n",
    "    return x*y\n",
    "product=reduce(multiply,lst)\n",
    "print(product,type(product))"
   ]
  },
  {
   "cell_type": "markdown",
   "metadata": {},
   "source": [
    "User Defined Functions"
   ]
  },
  {
   "cell_type": "code",
   "execution_count": 17,
   "metadata": {},
   "outputs": [
    {
     "name": "stdout",
     "output_type": "stream",
     "text": [
      "200 <class 'int'>\n"
     ]
    }
   ],
   "source": [
    "def product_numbers(a,b):\n",
    "    product=a*b\n",
    "    return product\n",
    "num1=10\n",
    "num2=20\n",
    "total_product=product_numbers(num1,num2)\n",
    "print(total_product,type(total_product))"
   ]
  },
  {
   "cell_type": "markdown",
   "metadata": {},
   "source": [
    "Function Arguments"
   ]
  },
  {
   "cell_type": "code",
   "execution_count": 18,
   "metadata": {},
   "outputs": [
    {
     "name": "stdout",
     "output_type": "stream",
     "text": [
      "Hello Swe , have a great day\n"
     ]
    }
   ],
   "source": [
    "def greet(name,msg):\n",
    "    print('Hello {0} , {1}'.format(name,msg))\n",
    "greet(\"Swe\",\"have a great day\")"
   ]
  },
  {
   "cell_type": "markdown",
   "metadata": {},
   "source": [
    "Different Forms of Arguments"
   ]
  },
  {
   "cell_type": "markdown",
   "metadata": {},
   "source": [
    "Defaults Arguments\n",
    "Why do we need defaults arguments in python?\n",
    "Example : use in random forest classifier \n",
    "it has many default parameters"
   ]
  },
  {
   "cell_type": "code",
   "execution_count": 19,
   "metadata": {},
   "outputs": [
    {
     "name": "stdout",
     "output_type": "stream",
     "text": [
      "Hello Swe , Good Morning\n"
     ]
    }
   ],
   "source": [
    "def greet(name,msg='Good Morning'):\n",
    "    print('Hello {0} , {1}'.format(name,msg))\n",
    "greet(\"Swe\")"
   ]
  },
  {
   "cell_type": "markdown",
   "metadata": {},
   "source": [
    "Arbitary Arguments\n",
    "Sometimes we don't know in advance the numbers of arguments that will be passed into a function.Python allows us to handle this kind of situation through function calls with arbitrary number of arguments"
   ]
  },
  {
   "cell_type": "code",
   "execution_count": 20,
   "metadata": {},
   "outputs": [
    {
     "name": "stdout",
     "output_type": "stream",
     "text": [
      "17\n"
     ]
    }
   ],
   "source": [
    "def add(*num):\n",
    "    return sum(num)\n",
    "\n",
    "print(add(1,2,3,5,6))"
   ]
  },
  {
   "cell_type": "code",
   "execution_count": 38,
   "metadata": {},
   "outputs": [
    {
     "name": "stdout",
     "output_type": "stream",
     "text": [
      "('Hemanth', 'varma', 'kittu', 'rohit')\n",
      "Hello , Hemanth\n",
      "Hello , varma\n",
      "Hello , kittu\n",
      "Hello , rohit\n"
     ]
    }
   ],
   "source": [
    "def greet(*names):\n",
    "    print(names)\n",
    "    for name in names:\n",
    "        print(\"Hello , {0}\".format(name))\n",
    "greet(\"Emily\",'Swe')"
   ]
  },
  {
   "cell_type": "markdown",
   "metadata": {},
   "source": [
    "Keywords arguments \n",
    "\n",
    "kwargs allows us to pass keyworded variable length of arguments to a function"
   ]
  },
  {
   "cell_type": "code",
   "execution_count": 39,
   "metadata": {},
   "outputs": [
    {
     "name": "stdout",
     "output_type": "stream",
     "text": [
      "Hello Hemanth , Good Morning\n"
     ]
    }
   ],
   "source": [
    "def greet(**data):\n",
    "    if data:\n",
    "        print(\"Hello {0} , {1}\".format(data['name'],data['msg']))\n",
    "        \n",
    "greet(name='Swe',msg='Good Morning')"
   ]
  },
  {
   "cell_type": "code",
   "execution_count": null,
   "metadata": {},
   "outputs": [],
   "source": [
    "def add(**kwargs):\n",
    "    print(type(kwargs))\n",
    "    print(kwargs)\n",
    "add(a=20,b=30,c=)"
   ]
  }
 ],
 "metadata": {
  "kernelspec": {
   "display_name": "Python 3",
   "language": "python",
   "name": "python3"
  },
  "language_info": {
   "codemirror_mode": {
    "name": "ipython",
    "version": 3
   },
   "file_extension": ".py",
   "mimetype": "text/x-python",
   "name": "python",
   "nbconvert_exporter": "python",
   "pygments_lexer": "ipython3",
   "version": "3.7.3"
  }
 },
 "nbformat": 4,
 "nbformat_minor": 2
}
