{
 "cells": [
  {
   "cell_type": "markdown",
   "metadata": {},
   "source": [
    "Central Limit Theorem"
   ]
  },
  {
   "cell_type": "code",
   "execution_count": 2,
   "metadata": {},
   "outputs": [],
   "source": [
    "import numpy as np\n",
    "import matplotlib.pyplot as plt\n",
    "import matplotlib.animation as animation\n",
    "# from wand.image import Image\n",
    "# from wand.display import display"
   ]
  },
  {
   "cell_type": "markdown",
   "metadata": {},
   "source": [
    "# Create 1000 simulations of a die rolls"
   ]
  },
  {
   "cell_type": "code",
   "execution_count": 3,
   "metadata": {},
   "outputs": [],
   "source": [
    "# 1000 simulations of die roll\n",
    "n=1000\n",
    "#In each simulation , there is one trial more than the previous session\n",
    "\n",
    "avg=[]\n",
    "for i in range(2,n):\n",
    "    a=np.random.randint(1,7,i)\n",
    "    avg.append(np.average(a))\n",
    "    "
   ]
  },
  {
   "cell_type": "code",
   "execution_count": 4,
   "metadata": {},
   "outputs": [
    {
     "data": {
      "text/plain": [
       "[4.333333333333333,\n",
       " 3.75,\n",
       " 2.2,\n",
       " 3.8333333333333335,\n",
       " 3.5714285714285716,\n",
       " 4.25,\n",
       " 4.111111111111111,\n",
       " 3.7,\n",
       " 3.727272727272727]"
      ]
     },
     "execution_count": 4,
     "metadata": {},
     "output_type": "execute_result"
    }
   ],
   "source": [
    "#Sample 10 expected value of die rolls\n",
    "avg[1:10]"
   ]
  },
  {
   "cell_type": "markdown",
   "metadata": {},
   "source": [
    "Function to plot histogram and animation"
   ]
  },
  {
   "cell_type": "code",
   "execution_count": 5,
   "metadata": {},
   "outputs": [],
   "source": [
    "def clt(current):\n",
    "    plt.cla()\n",
    "    if current==1000:\n",
    "        a.event_source.stop()\n",
    "        \n",
    "    plt.hist(avg[0:current])\n",
    "    plt.gca().set_title('Expected value of ide')\n",
    "    plt.gca().set_xlabel('Average from die roll')\n",
    "    plt.gca().set_ylabel('Frequency')\n",
    "    \n",
    "    plt.annotate('Die roll={}'.format(current),[3,27])"
   ]
  },
  {
   "cell_type": "code",
   "execution_count": 7,
   "metadata": {},
   "outputs": [
    {
     "data": {
      "text/plain": [
       "<Figure size 432x288 with 0 Axes>"
      ]
     },
     "metadata": {},
     "output_type": "display_data"
    },
    {
     "name": "stdout",
     "output_type": "stream",
     "text": [
      "None\n"
     ]
    }
   ],
   "source": [
    "fig=plt.figure()\n",
    "print(plt.show())"
   ]
  },
  {
   "cell_type": "code",
   "execution_count": 8,
   "metadata": {},
   "outputs": [
    {
     "name": "stdout",
     "output_type": "stream",
     "text": [
      "1.036756838522439\n",
      "4.9632431614775605\n"
     ]
    }
   ],
   "source": [
    "#Confidence Interval Calculation\n",
    "\n",
    "from scipy.stats import sem, t\n",
    "from scipy import mean\n",
    "\n",
    "confidence=0.95\n",
    "data=[1,2,3,4,5]\n",
    "\n",
    "n=len(data)\n",
    "m=mean(data)\n",
    "std_err=sem(data)\n",
    "h=std_err*t.ppf((1+confidence)/2,n-1)\n",
    "start=m-h\n",
    "print(start)\n",
    "\n",
    "end=m+h\n",
    "print(end)"
   ]
  },
  {
   "cell_type": "code",
   "execution_count": null,
   "metadata": {},
   "outputs": [],
   "source": []
  }
 ],
 "metadata": {
  "kernelspec": {
   "display_name": "Python 3",
   "language": "python",
   "name": "python3"
  },
  "language_info": {
   "codemirror_mode": {
    "name": "ipython",
    "version": 3
   },
   "file_extension": ".py",
   "mimetype": "text/x-python",
   "name": "python",
   "nbconvert_exporter": "python",
   "pygments_lexer": "ipython3",
   "version": "3.7.3"
  }
 },
 "nbformat": 4,
 "nbformat_minor": 2
}
