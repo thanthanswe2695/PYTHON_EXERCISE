{
 "cells": [
  {
   "cell_type": "code",
   "execution_count": 2,
   "metadata": {},
   "outputs": [
    {
     "name": "stdout",
     "output_type": "stream",
     "text": [
      "1\n",
      "2\n",
      "3\n"
     ]
    }
   ],
   "source": [
    "###Looping Statements\n",
    "##three looping statements in python\n",
    "##(while , while -else,for ,for-else)\n",
    "count=0\n",
    "while(count<3):\n",
    "    count=count+1\n",
    "    print(count)"
   ]
  },
  {
   "cell_type": "code",
   "execution_count": null,
   "metadata": {},
   "outputs": [],
   "source": [
    "###while loop with else\n",
    "numbers=[1,2,3,4,5]\n",
    "##iterating over the list\n",
    "index=0\n",
    "while index<len(numbers):\n",
    "    print(numbers[index])\n",
    "    index+=1\n",
    "else:\n",
    "    print('No item left in the list')"
   ]
  },
  {
   "cell_type": "code",
   "execution_count": 2,
   "metadata": {},
   "outputs": [
    {
     "name": "stdout",
     "output_type": "stream",
     "text": [
      "Enter a number : 6\n",
      "6 is divisible by 2\n",
      "6 is divisible by 3\n",
      "6 is not a prime number\n"
     ]
    }
   ],
   "source": [
    "###python program to check given numbers\n",
    "num=int(input('Enter a number : '))\n",
    "isDivisible=False;\n",
    "i=2\n",
    "while i<num:\n",
    "    if num%i==0:\n",
    "        isDivisible=True\n",
    "        print(\"{} is divisible by {}\".format(num,i))\n",
    "    i+=1\n",
    "if isDivisible:\n",
    "        print(\"{} is not a prime number\".format(num))\n",
    "else:print('{}is not a prime'.format(num))"
   ]
  },
  {
   "cell_type": "code",
   "execution_count": 3,
   "metadata": {},
   "outputs": [
    {
     "name": "stdout",
     "output_type": "stream",
     "text": [
      "List Iteration\n",
      "Hemanth\n",
      "Varma\n",
      "GVN\n"
     ]
    }
   ],
   "source": [
    "###Iterating over a list\n",
    "print('List Iteration')\n",
    "l=['Hemanth','Varma','GVN']\n",
    "for i in l:\n",
    "    print(i)"
   ]
  },
  {
   "cell_type": "code",
   "execution_count": 5,
   "metadata": {},
   "outputs": [
    {
     "name": "stdout",
     "output_type": "stream",
     "text": [
      "1\n",
      "3\n",
      "5\n",
      "else-block\n"
     ]
    }
   ],
   "source": [
    "###Python Continue Statement\n",
    "numbers=[1,2,3,4,5]\n",
    "for num in numbers:\n",
    "    if num%2==0:\n",
    "        continue\n",
    "    print(num)\n",
    "else:print('else-block')"
   ]
  },
  {
   "cell_type": "code",
   "execution_count": 8,
   "metadata": {},
   "outputs": [
    {
     "name": "stdout",
     "output_type": "stream",
     "text": [
      "0\n",
      "1\n",
      "3\n",
      "Finished with i =  3 3 is a type  and i is data type <class 'int'>\n"
     ]
    }
   ],
   "source": [
    "###range function inside for loop\n",
    "for i in range(0,4):\n",
    "    if i==2:\n",
    "        continue\n",
    "    print(i)\n",
    "print('Finished with i = ',str(i),'{} is a type'.format(i),' and i is data type',type(i))"
   ]
  },
  {
   "cell_type": "code",
   "execution_count": 9,
   "metadata": {},
   "outputs": [
    {
     "name": "stdout",
     "output_type": "stream",
     "text": [
      "[1, 'hemanth', 24, 1.24]\n"
     ]
    }
   ],
   "source": [
    "###Data Strucutures in python\n",
    "\n",
    "##List is a collection of elements\n",
    "##List creation\n",
    "emplist=[]\n",
    "lst=['one','two','three','four']##list of strings\n",
    "lst2=[1,2,3,4]##list of integers\n",
    "lst3=[[1,2],[3,4]]##list of lists\n",
    "lst4=[1,'hemanth',24,1.24]##list of different data types\n",
    "print(lst4)"
   ]
  },
  {
   "cell_type": "code",
   "execution_count": 10,
   "metadata": {},
   "outputs": [
    {
     "name": "stdout",
     "output_type": "stream",
     "text": [
      "True\n"
     ]
    }
   ],
   "source": [
    "l=[3,4,5,8,2,1,55,4,3,12]\n",
    "x=55\n",
    "print(x in l)"
   ]
  },
  {
   "cell_type": "code",
   "execution_count": 11,
   "metadata": {},
   "outputs": [
    {
     "name": "stdout",
     "output_type": "stream",
     "text": [
      "One is inside lst\n"
     ]
    }
   ],
   "source": [
    "##keyword 'in' is used to test if an item is in a list\n",
    "lst=['one','two','three','four']\n",
    "if 'one' in lst:\n",
    "    print('One is inside lst')\n",
    "else:\n",
    "    print('It is not inside lst')"
   ]
  },
  {
   "cell_type": "code",
   "execution_count": 12,
   "metadata": {},
   "outputs": [
    {
     "name": "stdout",
     "output_type": "stream",
     "text": [
      "[6, 4, 5, 99, 2, 1]\n"
     ]
    }
   ],
   "source": [
    "###list length , modification and append\n",
    "i=3\n",
    "l=[6,4,5,8,2,1]\n",
    "l[i]=99\n",
    "print(l)"
   ]
  },
  {
   "cell_type": "code",
   "execution_count": 13,
   "metadata": {},
   "outputs": [
    {
     "name": "stdout",
     "output_type": "stream",
     "text": [
      "[6, 4, 5, 99, 2, 1, 99]\n"
     ]
    }
   ],
   "source": [
    "l.append(99)\n",
    "print(l)"
   ]
  },
  {
   "cell_type": "code",
   "execution_count": 14,
   "metadata": {},
   "outputs": [
    {
     "name": "stdout",
     "output_type": "stream",
     "text": [
      "[6, 4, 45, 5, 99, 2, 1, 99]\n"
     ]
    }
   ],
   "source": [
    "l.insert(2,45)\n",
    "print(l)"
   ]
  },
  {
   "cell_type": "code",
   "execution_count": 15,
   "metadata": {},
   "outputs": [
    {
     "name": "stdout",
     "output_type": "stream",
     "text": [
      "[6, 4, 5, 99, 2, 1, 99]\n"
     ]
    }
   ],
   "source": [
    "l.remove(45)\n",
    "print(l)"
   ]
  },
  {
   "cell_type": "code",
   "execution_count": 18,
   "metadata": {},
   "outputs": [
    {
     "name": "stdout",
     "output_type": "stream",
     "text": [
      "['one', 'three']\n",
      "['one']\n"
     ]
    }
   ],
   "source": [
    "###In list deletion part , using del ,pop and remove\n",
    "lst=['one','two','three']\n",
    "del lst[1]\n",
    "print(lst)\n",
    "rem=lst.pop()\n",
    "print(lst)"
   ]
  },
  {
   "cell_type": "code",
   "execution_count": 22,
   "metadata": {},
   "outputs": [
    {
     "name": "stdout",
     "output_type": "stream",
     "text": [
      "['four', 'three', 'two', 'one']\n",
      "Sorted list : [1, 2, 3, 5, 8]\n",
      "Sorting list : None\n"
     ]
    }
   ],
   "source": [
    "##list reverse\n",
    "lst=['one','two','three','four']\n",
    "lst.reverse()\n",
    "print(lst)\n",
    "##list sorting\n",
    "##created a list with numbers\n",
    "numbers=[2,3,5,1,8]\n",
    "sorted_list=sorted(numbers)\n",
    "print(\"Sorted list :\",sorted_list)\n",
    "print(\"Sorting list :\",numbers.sort())"
   ]
  },
  {
   "cell_type": "code",
   "execution_count": 23,
   "metadata": {},
   "outputs": [
    {
     "name": "stdout",
     "output_type": "stream",
     "text": [
      "[1, 2, 3, 4, 5, 6]\n"
     ]
    }
   ],
   "source": [
    "##list having multiple references\n",
    "lst=[1,2,3,4,5]\n",
    "abc=lst\n",
    "abc.append(6)\n",
    "print(abc)"
   ]
  },
  {
   "cell_type": "code",
   "execution_count": 24,
   "metadata": {},
   "outputs": [
    {
     "name": "stdout",
     "output_type": "stream",
     "text": [
      "['one,two,three,four,five']\n"
     ]
    }
   ],
   "source": [
    "##let's take a string \n",
    "s='one,two,three,four,five'\n",
    "slst=s.split()\n",
    "print(slst)"
   ]
  },
  {
   "cell_type": "code",
   "execution_count": 26,
   "metadata": {},
   "outputs": [
    {
     "name": "stdout",
     "output_type": "stream",
     "text": [
      "[1, 2, 3, 4, 'hemanth', 'rohit', 'sidhu', 'kittu']\n",
      "1\n"
     ]
    }
   ],
   "source": [
    "##list indexing using \"+\"\n",
    "lst1=[1,2,3,4]\n",
    "lst2=['hemanth','rohit','sidhu','kittu']\n",
    "new_list=lst1+lst2\n",
    "print(new_list)\n",
    "print(new_list.count(1))"
   ]
  },
  {
   "cell_type": "code",
   "execution_count": 27,
   "metadata": {},
   "outputs": [
    {
     "name": "stdout",
     "output_type": "stream",
     "text": [
      "1 apple\n",
      "2 orange\n",
      "3 grape\n",
      "4 banana\n",
      "5 peach\n"
     ]
    }
   ],
   "source": [
    "###enumerate() adds a sequence numbers start from zero to each item in a list\n",
    "fruits=['apple','orange','grape','banana','peach']\n",
    "for idx,fruit in enumerate(fruits,start=1):\n",
    "    print(idx,fruit)"
   ]
  },
  {
   "cell_type": "code",
   "execution_count": 28,
   "metadata": {},
   "outputs": [
    {
     "name": "stdout",
     "output_type": "stream",
     "text": [
      "['a', 'p', 'p', 'l', 'e']\n"
     ]
    }
   ],
   "source": [
    "###converting a list\n",
    "print(list('apple'))"
   ]
  },
  {
   "cell_type": "code",
   "execution_count": 29,
   "metadata": {},
   "outputs": [
    {
     "name": "stdout",
     "output_type": "stream",
     "text": [
      "9\n"
     ]
    }
   ],
   "source": [
    "##list comprehensions\n",
    "#without list comprehensions\n",
    "squares=[]\n",
    "for i in range(10):\n",
    "    squares.append(i)\n",
    "print(i)"
   ]
  },
  {
   "cell_type": "code",
   "execution_count": 30,
   "metadata": {},
   "outputs": [
    {
     "name": "stdout",
     "output_type": "stream",
     "text": [
      "varma\n"
     ]
    }
   ],
   "source": [
    "###Hashable is the process of translating values to each number,generally called a hashed code\n",
    "##Accessing elements in tuple\n",
    "#indexing\n",
    "t=('Hemanth','varma','gvn','vizag','hyderabad')\n",
    "print(t[1])\n"
   ]
  },
  {
   "cell_type": "code",
   "execution_count": 31,
   "metadata": {},
   "outputs": [
    {
     "name": "stdout",
     "output_type": "stream",
     "text": [
      "('doooku', 'maharshi')\n"
     ]
    }
   ],
   "source": [
    "##nested tuple\n",
    "t=('ABC',('doooku','maharshi'),[1,2,3])\n",
    "print(t[1])"
   ]
  },
  {
   "cell_type": "code",
   "execution_count": 32,
   "metadata": {},
   "outputs": [
    {
     "name": "stdout",
     "output_type": "stream",
     "text": [
      "3\n"
     ]
    }
   ],
   "source": [
    "print(t[2][2])"
   ]
  },
  {
   "cell_type": "code",
   "execution_count": 33,
   "metadata": {},
   "outputs": [
    {
     "name": "stdout",
     "output_type": "stream",
     "text": [
      "List Iteration :\n",
      "3\n",
      "5\n",
      "4\n",
      "2\n",
      "1\n",
      "(3, 5, 4, 2, 1)\n"
     ]
    }
   ],
   "source": [
    "###tuple iteration\n",
    "l=[3,5,4,2,1]\n",
    "print('List Iteration :')\n",
    "for x in l:\n",
    "    print(x)\n",
    "t=(3,5,4,2,1)\n",
    "print(t)"
   ]
  },
  {
   "cell_type": "code",
   "execution_count": null,
   "metadata": {},
   "outputs": [],
   "source": []
  }
 ],
 "metadata": {
  "kernelspec": {
   "display_name": "Python 3",
   "language": "python",
   "name": "python3"
  },
  "language_info": {
   "codemirror_mode": {
    "name": "ipython",
    "version": 3
   },
   "file_extension": ".py",
   "mimetype": "text/x-python",
   "name": "python",
   "nbconvert_exporter": "python",
   "pygments_lexer": "ipython3",
   "version": "3.7.3"
  }
 },
 "nbformat": 4,
 "nbformat_minor": 2
}
